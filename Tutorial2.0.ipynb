{
 "cells": [
  {
   "cell_type": "markdown",
   "metadata": {},
   "source": [
    "## Revealing metabolic mechanism of interactions in the anaerobic digestion microbiome by flux balance "
   ]
  },
  {
   "cell_type": "markdown",
   "metadata": {},
   "source": [
    "Tutorial to perform the Flux Balance Analyses in the paper \"Revealing metabolic mechanism of interactions in the anaerobic digestion microbiome by flux balance\" by Arianna Basile and collegues. "
   ]
  },
  {
   "cell_type": "markdown",
   "metadata": {},
   "source": [
    "### 0) Import of the required packages and definition of the directory"
   ]
  },
  {
   "cell_type": "markdown",
   "metadata": {},
   "source": [
    "As a prepatory step, some packages must be imported..."
   ]
  },
  {
   "cell_type": "code",
   "execution_count": 2,
   "metadata": {},
   "outputs": [],
   "source": [
    "import PA_IN as f1\n",
    "import cherrypy\n",
    "from itertools import combinations\n",
    "from os import makedirs\n",
    "from os import chdir\n",
    "import cobra\n",
    "import pandas \n",
    "from os.path import expanduser, join\n",
    "import os\n",
    "import cherrypy\n",
    "import gurobi"
   ]
  },
  {
   "cell_type": "markdown",
   "metadata": {},
   "source": [
    "..and some directories should be created to store the output files."
   ]
  },
  {
   "cell_type": "code",
   "execution_count": 18,
   "metadata": {},
   "outputs": [],
   "source": [
    "my_dir=os.getcwd()\n",
    "analysis_folder = my_dir+'/tutorial/'\n",
    "single_model_folder = join(analysis_folder, 'models/')\n",
    "pair_model_folder = join(analysis_folder, 'pair_communities/')\n",
    "\n"
   ]
  },
  {
   "cell_type": "code",
   "execution_count": null,
   "metadata": {},
   "outputs": [],
   "source": [
    "\n",
    "makedirs(analysis_folder)\n",
    "makedirs(single_model_folder)\n",
    "makedirs(pair_model_folder)"
   ]
  },
  {
   "cell_type": "markdown",
   "metadata": {},
   "source": [
    "### 1) Generation of the metabolic models"
   ]
  },
  {
   "cell_type": "markdown",
   "metadata": {},
   "source": [
    "Command lines for the creation of two example microbial species retrieved from the github page."
   ]
  },
  {
   "cell_type": "markdown",
   "metadata": {},
   "source": [
    "!carve bin_17_unicycler.faa --universe grampos --fbc2 -o bin_17_fbc2.xml\n",
    "\n",
    "!carve bin_4_unicycler.faa --universe grampos --fbc2 -o bin_4_fbc2.xml"
   ]
  },
  {
   "cell_type": "markdown",
   "metadata": {},
   "source": [
    "## PA.IN (Mminte based code)"
   ]
  },
  {
   "cell_type": "markdown",
   "metadata": {},
   "source": [
    "### 2) The first step is to get a non-redundant list of all the possible pairs of models to calculate the pairwise interactivity"
   ]
  },
  {
   "cell_type": "code",
   "execution_count": 16,
   "metadata": {},
   "outputs": [
    {
     "name": "stdout",
     "output_type": "stream",
     "text": [
      "clostridiales_random.xml\n",
      "archaea_random.xml\n"
     ]
    },
    {
     "data": {
      "text/plain": [
       "[('clostridiales_random.xml', 'archaea_random.xml')]"
      ]
     },
     "execution_count": 16,
     "metadata": {},
     "output_type": "execute_result"
    }
   ],
   "source": [
    "\n",
    "c=f1.get_all_pairs(os.listdir(single_model_folder))\n",
    "\n",
    "with open(analysis_folder+\"/pairs.txt\",\"w\") as f:\n",
    "    for i in c:\n",
    "        print(i[0])\n",
    "        print(i[1])\n",
    "        f.write(i[0]+\"\\t\"+i[1]+\"\\n\")\n",
    "        \n",
    "c"
   ]
  },
  {
   "cell_type": "markdown",
   "metadata": {},
   "source": [
    "### 3) Creation of the one by one communities: either 3a or 3b "
   ]
  },
  {
   "cell_type": "markdown",
   "metadata": {},
   "source": [
    "### 3a) Creation of the communities using only one processor"
   ]
  },
  {
   "cell_type": "code",
   "execution_count": 21,
   "metadata": {},
   "outputs": [
    {
     "name": "stdout",
     "output_type": "stream",
     "text": [
      "cannot assign objective to a missing model\n"
     ]
    }
   ],
   "source": [
    "pair_model_filenames = f1.allPairComModels(listOfPairs=analysis_folder+\"pairs.txt\",comFolder=pair_model_folder,modelFolder=single_model_folder)\n"
   ]
  },
  {
   "cell_type": "markdown",
   "metadata": {},
   "source": [
    "### 3b) Creation of the community with the pairs of models using multiple processes"
   ]
  },
  {
   "cell_type": "code",
   "execution_count": 22,
   "metadata": {},
   "outputs": [
    {
     "name": "stdout",
     "output_type": "stream",
     "text": [
      "cannot assign objective to a missing model\n"
     ]
    }
   ],
   "source": [
    "from multiprocessing import Pool\n",
    "\n",
    "if __name__ ==  '__main__':\n",
    "    ##number of processors\n",
    "    num_processors = 20\n",
    "    p=Pool(processes = num_processors)\n",
    "    output = p.Process(target=f1.allPairComModels, args=(analysis_folder+\"pairs.txt\",single_model_folder,pair_model_folder))\n",
    "    output.start()"
   ]
  },
  {
   "cell_type": "markdown",
   "metadata": {},
   "source": [
    "### 4) Definition of the metabolite availability in the medium \n",
    "For this work the medium was determined through VMH (https://www.vmh.life/) database and sperimental data have been used to integrate the automatic ones"
   ]
  },
  {
   "cell_type": "markdown",
   "metadata": {},
   "source": [
    "### 5) Setting bounds considering the metabolite availability and calculation of the pairwise growth rates: either 5a or 5b\n",
    "\n"
   ]
  },
  {
   "cell_type": "markdown",
   "metadata": {},
   "source": [
    "### 5a) One processor"
   ]
  },
  {
   "cell_type": "code",
   "execution_count": null,
   "metadata": {},
   "outputs": [],
   "source": [
    "calculateGR(comFolder=\".\",diet=\"data/cheesewhey250_50+h2.tsv\")"
   ]
  },
  {
   "cell_type": "markdown",
   "metadata": {},
   "source": [
    "### 5b) Multiple processes"
   ]
  },
  {
   "cell_type": "code",
   "execution_count": null,
   "metadata": {},
   "outputs": [],
   "source": [
    "pool = mp.Pool(25)\n",
    "\n",
    "\n",
    "directory=pair_model_folder\n",
    "lines=os.listdir(directory)\n",
    "\n",
    "if __name__ ==  '__main__':\n",
    "    #cherrypy.log(direttory+i)\n",
    "    interazioni=pool.map(calculateGR_singlemodel,lines)\n"
   ]
  },
  {
   "cell_type": "markdown",
   "metadata": {},
   "source": [
    "### 6) Definition of the type of interaction occurring between the two microbes of the community"
   ]
  },
  {
   "cell_type": "code",
   "execution_count": null,
   "metadata": {},
   "outputs": [],
   "source": [
    "f1.evaluateInteractions(\n",
    "    inGRs=analysis_folder+outputGR.txt,\n",
    "    outInter=analysis_folder+random_name.tsv)"
   ]
  },
  {
   "cell_type": "markdown",
   "metadata": {},
   "source": [
    "## Micom based part "
   ]
  },
  {
   "cell_type": "code",
   "execution_count": null,
   "metadata": {},
   "outputs": [],
   "source": [
    "from micom import Community\n",
    "import gc"
   ]
  },
  {
   "cell_type": "markdown",
   "metadata": {},
   "source": [
    "### 7) Evaluation of the metabolic exchanges among microbes in the community"
   ]
  },
  {
   "cell_type": "code",
   "execution_count": 2,
   "metadata": {},
   "outputs": [],
   "source": []
  },
  {
   "cell_type": "code",
   "execution_count": 23,
   "metadata": {},
   "outputs": [
    {
     "ename": "SyntaxError",
     "evalue": "invalid syntax (<ipython-input-23-58ca28199fbb>, line 10)",
     "output_type": "error",
     "traceback": [
      "\u001b[0;36m  File \u001b[0;32m\"<ipython-input-23-58ca28199fbb>\"\u001b[0;36m, line \u001b[0;32m10\u001b[0m\n\u001b[0;31m    cheesewhey[i_new[0][:-3]+\"_m\"=float(i_new[1])\u001b[0m\n\u001b[0m                                 ^\u001b[0m\n\u001b[0;31mSyntaxError\u001b[0m\u001b[0;31m:\u001b[0m invalid syntax\n"
     ]
    }
   ],
   "source": [
    "import gc\n",
    "!ulimit\n",
    "gc.disable()\n",
    "\n",
    "medium=\"file_con_medium_prova.tsv\"\n",
    "cheesewhey={}\n",
    "with open(medium,\"r\") as f:\n",
    "    vettore=f.readlines()\n",
    "    for i in vettore:\n",
    "        i_new=i.rstrip().split(\"\\t\")\n",
    "        cheesewhey[i_new[0][:-3]+\"_m\"=float(i_new[1])\n",
    "        \n",
    "\n",
    "in_file=analysis_folder+\"random_micomsheet.tsv\"\n",
    "taxonomy=pandas.read_csv(in_file)\n",
    "com = Community(taxonomy, solver=\"gurobi\")\n",
    "com.medium = cheesewhey\n",
    "cherrypy.log(\"Build a community with a total of {} reactions.\".format(len(com.reactions)))\n",
    "sol=com.optimize(fluxes=True,pfba=True)\n",
    "matrix=sol.fluxes\n",
    "matrix1=matrix.filter(regex='^EX_')\n",
    "file_out_fluxes=analysis_folder+\"result_fluxes.csv\"\n",
    "outfile=open(file_out_fluxes,\"w\")\n",
    "matrix1.to_csv(outfile)\n",
    "cherrypy.log(\"Done\")\n",
    "outfile.close()"
   ]
  },
  {
   "cell_type": "markdown",
   "metadata": {},
   "source": [
    "END."
   ]
  },
  {
   "cell_type": "markdown",
   "metadata": {},
   "source": [
    " "
   ]
  }
 ],
 "metadata": {
  "kernelspec": {
   "display_name": "Python 2",
   "language": "python",
   "name": "python2"
  },
  "language_info": {
   "codemirror_mode": {
    "name": "ipython",
    "version": 2
   },
   "file_extension": ".py",
   "mimetype": "text/x-python",
   "name": "python",
   "nbconvert_exporter": "python",
   "pygments_lexer": "ipython2",
   "version": "2.7.15"
  }
 },
 "nbformat": 4,
 "nbformat_minor": 2
}
